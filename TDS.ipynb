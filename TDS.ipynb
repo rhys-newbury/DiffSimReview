{
 "cells": [
  {
   "cell_type": "code",
   "execution_count": 1,
   "metadata": {},
   "outputs": [
    {
     "name": "stdout",
     "output_type": "stream",
     "text": [
      "Requirement already satisfied: pytinydiffsim==0.9.5 in /home/taco/miniconda3/envs/tds/lib/python3.8/site-packages (0.9.5)\n",
      "Requirement already satisfied: numpy in /home/taco/miniconda3/envs/tds/lib/python3.8/site-packages (from pytinydiffsim==0.9.5) (1.24.4)\n"
     ]
    }
   ],
   "source": [
    "# Tested on Python 3.8.18 \n",
    "import sys\n",
    "!{sys.executable} -m pip install pytinydiffsim==0.9.5"
   ]
  },
  {
   "cell_type": "code",
   "execution_count": 2,
   "metadata": {},
   "outputs": [],
   "source": [
    "\n",
    "import pytinydiffsim as dp\n",
    "import numpy as np"
   ]
  },
  {
   "cell_type": "code",
   "execution_count": 3,
   "metadata": {},
   "outputs": [
    {
     "name": "stdout",
     "output_type": "stream",
     "text": [
      "Opened XML file\n",
      "base link=base\n",
      "base[-1]\n",
      "\n",
      "-arm1[0]\n",
      "\n",
      "--arm2[1]\n",
      "\n",
      "---endEffector[2]\n",
      "\n"
     ]
    }
   ],
   "source": [
    "world = dp.TinyWorld()\n",
    "world.friction = 1.0\n",
    "\n",
    "mb_solver = dp.TinyMultiBodyConstraintSolver()\n",
    "urdf_parser = dp.TinyUrdfParser()\n",
    "urdf = urdf_parser.load_urdf(\"example.urdf\", True)\n",
    "\n",
    "is_floating = False\n",
    "mb = dp.TinyMultiBody(is_floating)\n",
    "mb.set_position(dp.Vector3(0, 0, 0.6))\n",
    "mb.set_orientation(dp.Quaternion(0, 0, 0, 1))\n",
    "\n",
    "for _ in range(10):\n",
    "    dp.forward_kinematics(mb, mb.q, mb.qd)\n",
    "    dp.forward_dynamics(\n",
    "        mb,\n",
    "        dp.Vector3(0.0, 0.0, -10.0))\n",
    "    dp.integrate_euler_qdd(mb, 0.01)\n",
    "    multi_bodies = [mb]\n",
    "    dispatcher = world.get_collision_dispatcher()\n",
    "    contacts = world.compute_contacts_multi_body(\n",
    "        multi_bodies, dispatcher)\n",
    "    # collision solver\n",
    "    for cps in contacts:\n",
    "        mb_solver.resolve_collision(cps, 0.01)\n",
    "    dp.integrate_euler(mb, 0.01)"
   ]
  }
 ],
 "metadata": {
  "kernelspec": {
   "display_name": "tds",
   "language": "python",
   "name": "python3"
  },
  "language_info": {
   "codemirror_mode": {
    "name": "ipython",
    "version": 3
   },
   "file_extension": ".py",
   "mimetype": "text/x-python",
   "name": "python",
   "nbconvert_exporter": "python",
   "pygments_lexer": "ipython3",
   "version": "3.8.18"
  }
 },
 "nbformat": 4,
 "nbformat_minor": 2
}
