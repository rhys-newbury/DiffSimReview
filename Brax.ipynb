{
 "cells": [
  {
   "cell_type": "code",
   "execution_count": 1,
   "metadata": {},
   "outputs": [
    {
     "name": "stdout",
     "output_type": "stream",
     "text": [
      "Requirement already satisfied: brax==0.9.3 in /home/taco/miniconda3/envs/brax/lib/python3.8/site-packages (0.9.3)\n",
      "Requirement already satisfied: absl-py in /home/taco/miniconda3/envs/brax/lib/python3.8/site-packages (from brax==0.9.3) (2.0.0)\n",
      "Requirement already satisfied: dm-env in /home/taco/miniconda3/envs/brax/lib/python3.8/site-packages (from brax==0.9.3) (1.6)\n",
      "Requirement already satisfied: etils in /home/taco/miniconda3/envs/brax/lib/python3.8/site-packages (from brax==0.9.3) (1.3.0)\n",
      "Requirement already satisfied: flask in /home/taco/miniconda3/envs/brax/lib/python3.8/site-packages (from brax==0.9.3) (3.0.0)\n",
      "Requirement already satisfied: flask-cors in /home/taco/miniconda3/envs/brax/lib/python3.8/site-packages (from brax==0.9.3) (4.0.0)\n",
      "Requirement already satisfied: flax in /home/taco/miniconda3/envs/brax/lib/python3.8/site-packages (from brax==0.9.3) (0.7.2)\n",
      "Requirement already satisfied: grpcio in /home/taco/miniconda3/envs/brax/lib/python3.8/site-packages (from brax==0.9.3) (1.59.3)\n",
      "Requirement already satisfied: gym in /home/taco/miniconda3/envs/brax/lib/python3.8/site-packages (from brax==0.9.3) (0.26.2)\n",
      "Requirement already satisfied: jax>=0.4.6 in /home/taco/miniconda3/envs/brax/lib/python3.8/site-packages (from brax==0.9.3) (0.4.13)\n",
      "Requirement already satisfied: jaxlib>=0.4.6 in /home/taco/miniconda3/envs/brax/lib/python3.8/site-packages (from brax==0.9.3) (0.4.13)\n",
      "Requirement already satisfied: jaxopt in /home/taco/miniconda3/envs/brax/lib/python3.8/site-packages (from brax==0.9.3) (0.8.2)\n",
      "Requirement already satisfied: jinja2 in /home/taco/miniconda3/envs/brax/lib/python3.8/site-packages (from brax==0.9.3) (3.1.2)\n",
      "Requirement already satisfied: ml-collections in /home/taco/miniconda3/envs/brax/lib/python3.8/site-packages (from brax==0.9.3) (0.1.1)\n",
      "Requirement already satisfied: mujoco in /home/taco/miniconda3/envs/brax/lib/python3.8/site-packages (from brax==0.9.3) (3.0.1)\n",
      "Requirement already satisfied: numpy in /home/taco/miniconda3/envs/brax/lib/python3.8/site-packages (from brax==0.9.3) (1.24.4)\n",
      "Requirement already satisfied: optax in /home/taco/miniconda3/envs/brax/lib/python3.8/site-packages (from brax==0.9.3) (0.1.7)\n",
      "Requirement already satisfied: Pillow in /home/taco/miniconda3/envs/brax/lib/python3.8/site-packages (from brax==0.9.3) (10.1.0)\n",
      "Requirement already satisfied: pytinyrenderer in /home/taco/miniconda3/envs/brax/lib/python3.8/site-packages (from brax==0.9.3) (0.0.14)\n",
      "Requirement already satisfied: scipy in /home/taco/miniconda3/envs/brax/lib/python3.8/site-packages (from brax==0.9.3) (1.10.1)\n",
      "Requirement already satisfied: tensorboardX in /home/taco/miniconda3/envs/brax/lib/python3.8/site-packages (from brax==0.9.3) (2.6.2.2)\n",
      "Requirement already satisfied: trimesh in /home/taco/miniconda3/envs/brax/lib/python3.8/site-packages (from brax==0.9.3) (4.0.5)\n",
      "Requirement already satisfied: typing-extensions in /home/taco/miniconda3/envs/brax/lib/python3.8/site-packages (from brax==0.9.3) (4.7.1)\n",
      "Requirement already satisfied: ml-dtypes>=0.1.0 in /home/taco/miniconda3/envs/brax/lib/python3.8/site-packages (from jax>=0.4.6->brax==0.9.3) (0.2.0)\n",
      "Requirement already satisfied: opt-einsum in /home/taco/miniconda3/envs/brax/lib/python3.8/site-packages (from jax>=0.4.6->brax==0.9.3) (3.3.0)\n",
      "Requirement already satisfied: importlib-metadata>=4.6 in /home/taco/miniconda3/envs/brax/lib/python3.8/site-packages (from jax>=0.4.6->brax==0.9.3) (6.0.0)\n",
      "Requirement already satisfied: dm-tree in /home/taco/miniconda3/envs/brax/lib/python3.8/site-packages (from dm-env->brax==0.9.3) (0.1.8)\n",
      "Requirement already satisfied: Werkzeug>=3.0.0 in /home/taco/miniconda3/envs/brax/lib/python3.8/site-packages (from flask->brax==0.9.3) (3.0.1)\n",
      "Requirement already satisfied: itsdangerous>=2.1.2 in /home/taco/miniconda3/envs/brax/lib/python3.8/site-packages (from flask->brax==0.9.3) (2.1.2)\n",
      "Requirement already satisfied: click>=8.1.3 in /home/taco/miniconda3/envs/brax/lib/python3.8/site-packages (from flask->brax==0.9.3) (8.1.7)\n",
      "Requirement already satisfied: blinker>=1.6.2 in /home/taco/miniconda3/envs/brax/lib/python3.8/site-packages (from flask->brax==0.9.3) (1.7.0)\n",
      "Requirement already satisfied: MarkupSafe>=2.0 in /home/taco/miniconda3/envs/brax/lib/python3.8/site-packages (from jinja2->brax==0.9.3) (2.1.3)\n",
      "Requirement already satisfied: msgpack in /home/taco/miniconda3/envs/brax/lib/python3.8/site-packages (from flax->brax==0.9.3) (1.0.7)\n",
      "Requirement already satisfied: orbax-checkpoint in /home/taco/miniconda3/envs/brax/lib/python3.8/site-packages (from flax->brax==0.9.3) (0.2.3)\n",
      "Requirement already satisfied: tensorstore in /home/taco/miniconda3/envs/brax/lib/python3.8/site-packages (from flax->brax==0.9.3) (0.1.45)\n",
      "Requirement already satisfied: rich>=11.1 in /home/taco/miniconda3/envs/brax/lib/python3.8/site-packages (from flax->brax==0.9.3) (13.7.0)\n",
      "Requirement already satisfied: PyYAML>=5.4.1 in /home/taco/miniconda3/envs/brax/lib/python3.8/site-packages (from flax->brax==0.9.3) (6.0.1)\n",
      "Requirement already satisfied: cloudpickle>=1.2.0 in /home/taco/miniconda3/envs/brax/lib/python3.8/site-packages (from gym->brax==0.9.3) (3.0.0)\n",
      "Requirement already satisfied: gym-notices>=0.0.4 in /home/taco/miniconda3/envs/brax/lib/python3.8/site-packages (from gym->brax==0.9.3) (0.0.8)\n",
      "Requirement already satisfied: six in /home/taco/miniconda3/envs/brax/lib/python3.8/site-packages (from ml-collections->brax==0.9.3) (1.16.0)\n",
      "Requirement already satisfied: contextlib2 in /home/taco/miniconda3/envs/brax/lib/python3.8/site-packages (from ml-collections->brax==0.9.3) (21.6.0)\n",
      "Requirement already satisfied: glfw in /home/taco/miniconda3/envs/brax/lib/python3.8/site-packages (from mujoco->brax==0.9.3) (2.6.3)\n",
      "Requirement already satisfied: pyopengl in /home/taco/miniconda3/envs/brax/lib/python3.8/site-packages (from mujoco->brax==0.9.3) (3.1.7)\n",
      "Requirement already satisfied: chex>=0.1.5 in /home/taco/miniconda3/envs/brax/lib/python3.8/site-packages (from optax->brax==0.9.3) (0.1.7)\n",
      "Requirement already satisfied: packaging in /home/taco/miniconda3/envs/brax/lib/python3.8/site-packages (from tensorboardX->brax==0.9.3) (23.1)\n",
      "Requirement already satisfied: protobuf>=3.20 in /home/taco/miniconda3/envs/brax/lib/python3.8/site-packages (from tensorboardX->brax==0.9.3) (4.25.1)\n",
      "Requirement already satisfied: toolz>=0.9.0 in /home/taco/miniconda3/envs/brax/lib/python3.8/site-packages (from chex>=0.1.5->optax->brax==0.9.3) (0.12.0)\n",
      "Requirement already satisfied: zipp>=0.5 in /home/taco/miniconda3/envs/brax/lib/python3.8/site-packages (from importlib-metadata>=4.6->jax>=0.4.6->brax==0.9.3) (3.11.0)\n",
      "Requirement already satisfied: markdown-it-py>=2.2.0 in /home/taco/miniconda3/envs/brax/lib/python3.8/site-packages (from rich>=11.1->flax->brax==0.9.3) (3.0.0)\n",
      "Requirement already satisfied: pygments<3.0.0,>=2.13.0 in /home/taco/miniconda3/envs/brax/lib/python3.8/site-packages (from rich>=11.1->flax->brax==0.9.3) (2.15.1)\n",
      "Requirement already satisfied: importlib_resources in /home/taco/miniconda3/envs/brax/lib/python3.8/site-packages (from etils[epath]->mujoco->brax==0.9.3) (6.1.1)\n",
      "Requirement already satisfied: cached_property in /home/taco/miniconda3/envs/brax/lib/python3.8/site-packages (from orbax-checkpoint->flax->brax==0.9.3) (1.5.2)\n",
      "Requirement already satisfied: nest_asyncio in /home/taco/miniconda3/envs/brax/lib/python3.8/site-packages (from orbax-checkpoint->flax->brax==0.9.3) (1.5.6)\n",
      "Requirement already satisfied: mdurl~=0.1 in /home/taco/miniconda3/envs/brax/lib/python3.8/site-packages (from markdown-it-py>=2.2.0->rich>=11.1->flax->brax==0.9.3) (0.1.2)\n"
     ]
    }
   ],
   "source": [
    "# Tested on Python 3.8.18 \n",
    "import sys\n",
    "!{sys.executable} -m pip install brax==0.9.3"
   ]
  },
  {
   "cell_type": "code",
   "execution_count": 2,
   "metadata": {},
   "outputs": [],
   "source": [
    "from brax.io import mjcf\n",
    "import jax\n",
    "from jax import numpy as jp\n",
    "from brax.positional import pipeline as p"
   ]
  },
  {
   "cell_type": "code",
   "execution_count": 4,
   "metadata": {},
   "outputs": [
    {
     "ename": "ValueError",
     "evalue": "XML Error: Schema violation: unrecognized element\n\nElement 'joint', line 10\n",
     "output_type": "error",
     "traceback": [
      "\u001b[0;31m---------------------------------------------------------------------------\u001b[0m",
      "\u001b[0;31mValueError\u001b[0m                                Traceback (most recent call last)",
      "\u001b[1;32m/home/taco/diff_sim_control/Examples/Brax.ipynb Cell 3\u001b[0m line \u001b[0;36m2\n\u001b[1;32m      <a href='vscode-notebook-cell://wsl%2Bubuntu/home/taco/diff_sim_control/Examples/Brax.ipynb#W2sdnNjb2RlLXJlbW90ZQ%3D%3D?line=0'>1</a>\u001b[0m \u001b[39mwith\u001b[39;00m \u001b[39mopen\u001b[39m(\u001b[39m\"\u001b[39m\u001b[39mexample.mjcf\u001b[39m\u001b[39m\"\u001b[39m) \u001b[39mas\u001b[39;00m example:\n\u001b[0;32m----> <a href='vscode-notebook-cell://wsl%2Bubuntu/home/taco/diff_sim_control/Examples/Brax.ipynb#W2sdnNjb2RlLXJlbW90ZQ%3D%3D?line=1'>2</a>\u001b[0m     model \u001b[39m=\u001b[39m mjcf\u001b[39m.\u001b[39;49mloads(example\u001b[39m.\u001b[39;49mread())\n\u001b[1;32m      <a href='vscode-notebook-cell://wsl%2Bubuntu/home/taco/diff_sim_control/Examples/Brax.ipynb#W2sdnNjb2RlLXJlbW90ZQ%3D%3D?line=3'>4</a>\u001b[0m qd \u001b[39m=\u001b[39m jp\u001b[39m.\u001b[39marray([\u001b[39m1\u001b[39m, \u001b[39m0\u001b[39m, \u001b[39m0\u001b[39m, \u001b[39m0\u001b[39m, \u001b[39m0\u001b[39m, \u001b[39m0\u001b[39m])\n\u001b[1;32m      <a href='vscode-notebook-cell://wsl%2Bubuntu/home/taco/diff_sim_control/Examples/Brax.ipynb#W2sdnNjb2RlLXJlbW90ZQ%3D%3D?line=4'>5</a>\u001b[0m state \u001b[39m=\u001b[39m jax\u001b[39m.\u001b[39mjit(pipeline\u001b[39m.\u001b[39minit)(model, model\u001b[39m.\u001b[39minit_q, qd)\n",
      "File \u001b[0;32m~/miniconda3/envs/brax/lib/python3.8/site-packages/brax/io/mjcf.py:521\u001b[0m, in \u001b[0;36mloads\u001b[0;34m(xml, asset_path)\u001b[0m\n\u001b[1;32m    519\u001b[0m   assets \u001b[39m=\u001b[39m _find_assets(elem, asset_path, meshdir)\n\u001b[1;32m    520\u001b[0m xml \u001b[39m=\u001b[39m ElementTree\u001b[39m.\u001b[39mtostring(elem, encoding\u001b[39m=\u001b[39m\u001b[39m'\u001b[39m\u001b[39municode\u001b[39m\u001b[39m'\u001b[39m)\n\u001b[0;32m--> 521\u001b[0m mj \u001b[39m=\u001b[39m mujoco\u001b[39m.\u001b[39;49mMjModel\u001b[39m.\u001b[39;49mfrom_xml_string(xml, assets\u001b[39m=\u001b[39;49massets)\n\u001b[1;32m    523\u001b[0m \u001b[39mreturn\u001b[39;00m load_model(mj)\n",
      "\u001b[0;31mValueError\u001b[0m: XML Error: Schema violation: unrecognized element\n\nElement 'joint', line 10\n"
     ]
    }
   ],
   "source": [
    "with open(\"example.mjcf\") as example:\n",
    "    model = mjcf.loads(example.read())\n",
    "\n",
    "qd = jp.array([1, 0, 0, 0, 0, 0])\n",
    "state = jax.jit(pipeline.init)(model, model.init_q, qd)\n",
    "\n",
    "for i in range(100):\n",
    "    state = jax.jit(p.step)(model, state, None)\n"
   ]
  }
 ],
 "metadata": {
  "kernelspec": {
   "display_name": "brax",
   "language": "python",
   "name": "python3"
  },
  "language_info": {
   "codemirror_mode": {
    "name": "ipython",
    "version": 3
   },
   "file_extension": ".py",
   "mimetype": "text/x-python",
   "name": "python",
   "nbconvert_exporter": "python",
   "pygments_lexer": "ipython3",
   "version": "3.8.18"
  }
 },
 "nbformat": 4,
 "nbformat_minor": 2
}
