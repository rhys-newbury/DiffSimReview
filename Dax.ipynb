{
 "cells": [
  {
   "cell_type": "code",
   "execution_count": 3,
   "metadata": {},
   "outputs": [
    {
     "name": "stdout",
     "output_type": "stream",
     "text": [
      "Requirement already satisfied: scikit-image==0.19.0 in /home/taco/miniconda3/envs/dax/lib/python3.8/site-packages (0.19.0)\n",
      "Requirement already satisfied: numpy>=1.17.0 in /home/taco/miniconda3/envs/dax/lib/python3.8/site-packages (from scikit-image==0.19.0) (1.24.4)\n",
      "Requirement already satisfied: scipy>=1.4.1 in /home/taco/miniconda3/envs/dax/lib/python3.8/site-packages (from scikit-image==0.19.0) (1.10.1)\n",
      "Requirement already satisfied: networkx>=2.2 in /home/taco/miniconda3/envs/dax/lib/python3.8/site-packages (from scikit-image==0.19.0) (3.1)\n",
      "Requirement already satisfied: pillow!=7.1.0,!=7.1.1,!=8.3.0,>=6.1.0 in /home/taco/miniconda3/envs/dax/lib/python3.8/site-packages (from scikit-image==0.19.0) (10.1.0)\n",
      "Requirement already satisfied: imageio>=2.4.1 in /home/taco/miniconda3/envs/dax/lib/python3.8/site-packages (from scikit-image==0.19.0) (2.27.0)\n",
      "Requirement already satisfied: tifffile>=2019.7.26 in /home/taco/miniconda3/envs/dax/lib/python3.8/site-packages (from scikit-image==0.19.0) (2023.7.10)\n",
      "Requirement already satisfied: PyWavelets>=1.1.1 in /home/taco/miniconda3/envs/dax/lib/python3.8/site-packages (from scikit-image==0.19.0) (1.4.1)\n",
      "Requirement already satisfied: packaging>=20.0 in /home/taco/miniconda3/envs/dax/lib/python3.8/site-packages (from scikit-image==0.19.0) (23.1)\n",
      "Collecting git+https://github.com/fogleman/sdf.git@89a88680d463340ddb472308c465cd8ca854cb6e\n",
      "  Cloning https://github.com/fogleman/sdf.git (to revision 89a88680d463340ddb472308c465cd8ca854cb6e) to /tmp/pip-req-build-w7g_s23f\n",
      "  Running command git clone --filter=blob:none --quiet https://github.com/fogleman/sdf.git /tmp/pip-req-build-w7g_s23f\n",
      "  Running command git rev-parse -q --verify 'sha^89a88680d463340ddb472308c465cd8ca854cb6e'\n",
      "  Running command git fetch -q https://github.com/fogleman/sdf.git 89a88680d463340ddb472308c465cd8ca854cb6e\n",
      "  Resolved https://github.com/fogleman/sdf.git to commit 89a88680d463340ddb472308c465cd8ca854cb6e\n",
      "  Preparing metadata (setup.py) ... \u001b[?25ldone\n",
      "\u001b[?25hRequirement already satisfied: matplotlib in /home/taco/miniconda3/envs/dax/lib/python3.8/site-packages (from sdf==0.1) (3.7.4)\n",
      "Requirement already satisfied: meshio in /home/taco/miniconda3/envs/dax/lib/python3.8/site-packages (from sdf==0.1) (5.3.4)\n",
      "Requirement already satisfied: numpy in /home/taco/miniconda3/envs/dax/lib/python3.8/site-packages (from sdf==0.1) (1.24.4)\n",
      "Requirement already satisfied: scikit-image>=0.17 in /home/taco/miniconda3/envs/dax/lib/python3.8/site-packages (from sdf==0.1) (0.19.0)\n",
      "Requirement already satisfied: scipy in /home/taco/miniconda3/envs/dax/lib/python3.8/site-packages (from sdf==0.1) (1.10.1)\n",
      "Requirement already satisfied: Pillow in /home/taco/miniconda3/envs/dax/lib/python3.8/site-packages (from sdf==0.1) (10.1.0)\n",
      "Requirement already satisfied: networkx>=2.2 in /home/taco/miniconda3/envs/dax/lib/python3.8/site-packages (from scikit-image>=0.17->sdf==0.1) (3.1)\n",
      "Requirement already satisfied: imageio>=2.4.1 in /home/taco/miniconda3/envs/dax/lib/python3.8/site-packages (from scikit-image>=0.17->sdf==0.1) (2.27.0)\n",
      "Requirement already satisfied: tifffile>=2019.7.26 in /home/taco/miniconda3/envs/dax/lib/python3.8/site-packages (from scikit-image>=0.17->sdf==0.1) (2023.7.10)\n",
      "Requirement already satisfied: PyWavelets>=1.1.1 in /home/taco/miniconda3/envs/dax/lib/python3.8/site-packages (from scikit-image>=0.17->sdf==0.1) (1.4.1)\n",
      "Requirement already satisfied: packaging>=20.0 in /home/taco/miniconda3/envs/dax/lib/python3.8/site-packages (from scikit-image>=0.17->sdf==0.1) (23.1)\n",
      "Requirement already satisfied: contourpy>=1.0.1 in /home/taco/miniconda3/envs/dax/lib/python3.8/site-packages (from matplotlib->sdf==0.1) (1.1.1)\n",
      "Requirement already satisfied: cycler>=0.10 in /home/taco/miniconda3/envs/dax/lib/python3.8/site-packages (from matplotlib->sdf==0.1) (0.12.1)\n",
      "Requirement already satisfied: fonttools>=4.22.0 in /home/taco/miniconda3/envs/dax/lib/python3.8/site-packages (from matplotlib->sdf==0.1) (4.45.1)\n",
      "Requirement already satisfied: kiwisolver>=1.0.1 in /home/taco/miniconda3/envs/dax/lib/python3.8/site-packages (from matplotlib->sdf==0.1) (1.4.5)\n",
      "Requirement already satisfied: pyparsing>=2.3.1 in /home/taco/miniconda3/envs/dax/lib/python3.8/site-packages (from matplotlib->sdf==0.1) (3.1.1)\n",
      "Requirement already satisfied: python-dateutil>=2.7 in /home/taco/miniconda3/envs/dax/lib/python3.8/site-packages (from matplotlib->sdf==0.1) (2.8.2)\n",
      "Requirement already satisfied: importlib-resources>=3.2.0 in /home/taco/miniconda3/envs/dax/lib/python3.8/site-packages (from matplotlib->sdf==0.1) (6.1.1)\n",
      "Requirement already satisfied: rich in /home/taco/miniconda3/envs/dax/lib/python3.8/site-packages (from meshio->sdf==0.1) (13.7.0)\n",
      "Requirement already satisfied: zipp>=3.1.0 in /home/taco/miniconda3/envs/dax/lib/python3.8/site-packages (from importlib-resources>=3.2.0->matplotlib->sdf==0.1) (3.11.0)\n",
      "Requirement already satisfied: six>=1.5 in /home/taco/miniconda3/envs/dax/lib/python3.8/site-packages (from python-dateutil>=2.7->matplotlib->sdf==0.1) (1.16.0)\n",
      "Requirement already satisfied: markdown-it-py>=2.2.0 in /home/taco/miniconda3/envs/dax/lib/python3.8/site-packages (from rich->meshio->sdf==0.1) (3.0.0)\n",
      "Requirement already satisfied: pygments<3.0.0,>=2.13.0 in /home/taco/miniconda3/envs/dax/lib/python3.8/site-packages (from rich->meshio->sdf==0.1) (2.15.1)\n",
      "Requirement already satisfied: typing-extensions<5.0,>=4.0.0 in /home/taco/miniconda3/envs/dax/lib/python3.8/site-packages (from rich->meshio->sdf==0.1) (4.7.1)\n",
      "Requirement already satisfied: mdurl~=0.1 in /home/taco/miniconda3/envs/dax/lib/python3.8/site-packages (from markdown-it-py>=2.2.0->rich->meshio->sdf==0.1) (0.1.2)\n",
      "Collecting git+https://github.com/AdaCompNUS/DaXBench.git@bc73c58134b004e5fbe9131639d06e8e052566cd\n",
      "  Cloning https://github.com/AdaCompNUS/DaXBench.git (to revision bc73c58134b004e5fbe9131639d06e8e052566cd) to /tmp/pip-req-build-48a1ryuy\n",
      "  Running command git clone --filter=blob:none --quiet https://github.com/AdaCompNUS/DaXBench.git /tmp/pip-req-build-48a1ryuy\n",
      "  Running command git rev-parse -q --verify 'sha^bc73c58134b004e5fbe9131639d06e8e052566cd'\n",
      "  Running command git fetch -q https://github.com/AdaCompNUS/DaXBench.git bc73c58134b004e5fbe9131639d06e8e052566cd\n",
      "  Resolved https://github.com/AdaCompNUS/DaXBench.git to commit bc73c58134b004e5fbe9131639d06e8e052566cd\n",
      "  Preparing metadata (setup.py) ... \u001b[?25ldone\n",
      "\u001b[?25hRequirement already satisfied: typer in /home/taco/miniconda3/envs/dax/lib/python3.8/site-packages (from daxbench==0.0.0) (0.9.0)\n",
      "Requirement already satisfied: protobuf==3.20.1 in /home/taco/miniconda3/envs/dax/lib/python3.8/site-packages (from daxbench==0.0.0) (3.20.1)\n",
      "Requirement already satisfied: flax in /home/taco/miniconda3/envs/dax/lib/python3.8/site-packages (from daxbench==0.0.0) (0.7.2)\n",
      "Requirement already satisfied: brax==0.0.13 in /home/taco/miniconda3/envs/dax/lib/python3.8/site-packages (from daxbench==0.0.0) (0.0.13)\n",
      "Requirement already satisfied: gym<0.26,>=0.25 in /home/taco/miniconda3/envs/dax/lib/python3.8/site-packages (from daxbench==0.0.0) (0.25.2)\n",
      "Requirement already satisfied: opencv-python==4.6.0.66 in /home/taco/miniconda3/envs/dax/lib/python3.8/site-packages (from daxbench==0.0.0) (4.6.0.66)\n",
      "^C\n",
      "\u001b[31mERROR: Operation cancelled by user\u001b[0m\u001b[31m\n",
      "\u001b[0m"
     ]
    }
   ],
   "source": [
    "# Tested on Python 3.8.18 \n",
    "import sys\n",
    "!{sys.executable} -m pip install scikit-image==0.19.0\n",
    "!{sys.executable} -m pip install git+https://github.com/fogleman/sdf.git@89a88680d463340ddb472308c465cd8ca854cb6e\n",
    "!{sys.executable} -m pip install git+https://github.com/AdaCompNUS/DaXBench.git@bc73c58134b004e5fbe9131639d06e8e052566cd"
   ]
  },
  {
   "cell_type": "code",
   "execution_count": 4,
   "metadata": {},
   "outputs": [
    {
     "ename": "ModuleNotFoundError",
     "evalue": "No module named 'daxbench.core.engine.pyrender'",
     "output_type": "error",
     "traceback": [
      "\u001b[0;31m---------------------------------------------------------------------------\u001b[0m",
      "\u001b[0;31mModuleNotFoundError\u001b[0m                       Traceback (most recent call last)",
      "\u001b[1;32m/home/taco/diff_sim_control/Examples/Dax.ipynb Cell 2\u001b[0m line \u001b[0;36m3\n\u001b[1;32m      <a href='vscode-notebook-cell://wsl%2Bubuntu/home/taco/diff_sim_control/Examples/Dax.ipynb#W1sdnNjb2RlLXJlbW90ZQ%3D%3D?line=0'>1</a>\u001b[0m \u001b[39mimport\u001b[39;00m \u001b[39mjax\u001b[39;00m\n\u001b[1;32m      <a href='vscode-notebook-cell://wsl%2Bubuntu/home/taco/diff_sim_control/Examples/Dax.ipynb#W1sdnNjb2RlLXJlbW90ZQ%3D%3D?line=1'>2</a>\u001b[0m \u001b[39mimport\u001b[39;00m \u001b[39mjax\u001b[39;00m\u001b[39m.\u001b[39;00m\u001b[39mnumpy\u001b[39;00m \u001b[39mas\u001b[39;00m \u001b[39mjnp\u001b[39;00m\n\u001b[0;32m----> <a href='vscode-notebook-cell://wsl%2Bubuntu/home/taco/diff_sim_control/Examples/Dax.ipynb#W1sdnNjb2RlLXJlbW90ZQ%3D%3D?line=2'>3</a>\u001b[0m \u001b[39mfrom\u001b[39;00m \u001b[39mdaxbench\u001b[39;00m\u001b[39m.\u001b[39;00m\u001b[39mcore\u001b[39;00m\u001b[39m.\u001b[39;00m\u001b[39menvs\u001b[39;00m \u001b[39mimport\u001b[39;00m ShapeRopeEnv\n",
      "File \u001b[0;32m~/miniconda3/envs/dax/lib/python3.8/site-packages/daxbench/core/envs/__init__.py:1\u001b[0m\n\u001b[0;32m----> 1\u001b[0m \u001b[39mfrom\u001b[39;00m \u001b[39mdaxbench\u001b[39;00m\u001b[39m.\u001b[39;00m\u001b[39mcore\u001b[39;00m\u001b[39m.\u001b[39;00m\u001b[39menvs\u001b[39;00m\u001b[39m.\u001b[39;00m\u001b[39mfold_cloth1_env\u001b[39;00m \u001b[39mimport\u001b[39;00m FoldCloth1Env, FoldCloth1Conf\n\u001b[1;32m      2\u001b[0m \u001b[39mfrom\u001b[39;00m \u001b[39mdaxbench\u001b[39;00m\u001b[39m.\u001b[39;00m\u001b[39mcore\u001b[39;00m\u001b[39m.\u001b[39;00m\u001b[39menvs\u001b[39;00m\u001b[39m.\u001b[39;00m\u001b[39mfold_cloth3_env\u001b[39;00m \u001b[39mimport\u001b[39;00m FoldCloth3Env, FoldCloth3Config\n\u001b[1;32m      3\u001b[0m \u001b[39mfrom\u001b[39;00m \u001b[39mdaxbench\u001b[39;00m\u001b[39m.\u001b[39;00m\u001b[39mcore\u001b[39;00m\u001b[39m.\u001b[39;00m\u001b[39menvs\u001b[39;00m\u001b[39m.\u001b[39;00m\u001b[39mfold_cloth_tshirt_env\u001b[39;00m \u001b[39mimport\u001b[39;00m FoldTshirtEnv, FoldTshirtConfig\n",
      "File \u001b[0;32m~/miniconda3/envs/dax/lib/python3.8/site-packages/daxbench/core/envs/fold_cloth1_env.py:9\u001b[0m\n\u001b[1;32m      6\u001b[0m \u001b[39mimport\u001b[39;00m \u001b[39mnumpy\u001b[39;00m \u001b[39mas\u001b[39;00m \u001b[39mnp\u001b[39;00m\n\u001b[1;32m      8\u001b[0m \u001b[39mfrom\u001b[39;00m \u001b[39mdaxbench\u001b[39;00m\u001b[39m.\u001b[39;00m\u001b[39mcore\u001b[39;00m\u001b[39m.\u001b[39;00m\u001b[39mengine\u001b[39;00m\u001b[39m.\u001b[39;00m\u001b[39mcloth_simulator\u001b[39;00m \u001b[39mimport\u001b[39;00m ClothState\n\u001b[0;32m----> 9\u001b[0m \u001b[39mfrom\u001b[39;00m \u001b[39mdaxbench\u001b[39;00m\u001b[39m.\u001b[39;00m\u001b[39mcore\u001b[39;00m\u001b[39m.\u001b[39;00m\u001b[39menvs\u001b[39;00m\u001b[39m.\u001b[39;00m\u001b[39mbasic\u001b[39;00m\u001b[39m.\u001b[39;00m\u001b[39mcloth_env\u001b[39;00m \u001b[39mimport\u001b[39;00m ClothEnv\n\u001b[1;32m     10\u001b[0m \u001b[39mfrom\u001b[39;00m \u001b[39mdaxbench\u001b[39;00m\u001b[39m.\u001b[39;00m\u001b[39mcore\u001b[39;00m\u001b[39m.\u001b[39;00m\u001b[39mutils\u001b[39;00m\u001b[39m.\u001b[39;00m\u001b[39mutil\u001b[39;00m \u001b[39mimport\u001b[39;00m get_expert_start_end_cloth\n\u001b[1;32m     12\u001b[0m my_path \u001b[39m=\u001b[39m os\u001b[39m.\u001b[39mpath\u001b[39m.\u001b[39mdirname(os\u001b[39m.\u001b[39mpath\u001b[39m.\u001b[39mabspath(\u001b[39m__file__\u001b[39m))\n",
      "File \u001b[0;32m~/miniconda3/envs/dax/lib/python3.8/site-packages/daxbench/core/envs/basic/cloth_env.py:14\u001b[0m\n\u001b[1;32m     11\u001b[0m \u001b[39mfrom\u001b[39;00m \u001b[39mjax\u001b[39;00m \u001b[39mimport\u001b[39;00m random, vmap\n\u001b[1;32m     13\u001b[0m \u001b[39mfrom\u001b[39;00m \u001b[39mdaxbench\u001b[39;00m\u001b[39m.\u001b[39;00m\u001b[39mcore\u001b[39;00m\u001b[39m.\u001b[39;00m\u001b[39mengine\u001b[39;00m\u001b[39m.\u001b[39;00m\u001b[39mcloth_simulator\u001b[39;00m \u001b[39mimport\u001b[39;00m ClothSimulator, ClothState\n\u001b[0;32m---> 14\u001b[0m \u001b[39mfrom\u001b[39;00m \u001b[39mdaxbench\u001b[39;00m\u001b[39m.\u001b[39;00m\u001b[39mcore\u001b[39;00m\u001b[39m.\u001b[39;00m\u001b[39mengine\u001b[39;00m\u001b[39m.\u001b[39;00m\u001b[39mpyrender\u001b[39;00m\u001b[39m.\u001b[39;00m\u001b[39mpy_render\u001b[39;00m \u001b[39mimport\u001b[39;00m MeshPyRenderer\n\u001b[1;32m     15\u001b[0m \u001b[39mfrom\u001b[39;00m \u001b[39mdaxbench\u001b[39;00m\u001b[39m.\u001b[39;00m\u001b[39mcore\u001b[39;00m\u001b[39m.\u001b[39;00m\u001b[39mutils\u001b[39;00m\u001b[39m.\u001b[39;00m\u001b[39mutil\u001b[39;00m \u001b[39mimport\u001b[39;00m calc_chamfer, get_expert_start_end_cloth, get_projection\n\u001b[1;32m     17\u001b[0m my_path \u001b[39m=\u001b[39m os\u001b[39m.\u001b[39mpath\u001b[39m.\u001b[39mdirname(os\u001b[39m.\u001b[39mpath\u001b[39m.\u001b[39mabspath(\u001b[39m__file__\u001b[39m))\n",
      "\u001b[0;31mModuleNotFoundError\u001b[0m: No module named 'daxbench.core.engine.pyrender'"
     ]
    }
   ],
   "source": [
    "import jax\n",
    "import jax.numpy as jnp\n",
    "from daxbench.core.envs import ShapeRopeEnv"
   ]
  },
  {
   "cell_type": "code",
   "execution_count": null,
   "metadata": {},
   "outputs": [],
   "source": [
    "# Crreate the environments\n",
    "env = ShapeRopeEnv(batch_size=3, seed=1)\n",
    "obs, state = env.reset(env.simulator.key)\n",
    "\n",
    "# Actions to be simulated in each environment\n",
    "actions = jnp.array(\n",
    "    [\n",
    "        [0.4, 0, 0.4, 0.6, 0, 0.6],\n",
    "        [0.6, 0, 0.6, 0.4, 0, 0.4],\n",
    "        [0.4, 0, 0.6, 0.6, 0, 0.4],\n",
    "    ]\n",
    ")\n",
    "\n",
    "@jax.jit\n",
    "@jax.grad\n",
    "def compute_grad(actions, state):\n",
    "    obs, reward, done, info = env.step_diff(actions, state)\n",
    "    objective_to_be_minimized =  - reward.sum()\n",
    "    return objective_to_be_minimized\n",
    "\n",
    "print(\"action gradients:\", compute_grad(actions, state))"
   ]
  }
 ],
 "metadata": {
  "kernelspec": {
   "display_name": "tds",
   "language": "python",
   "name": "python3"
  },
  "language_info": {
   "codemirror_mode": {
    "name": "ipython",
    "version": 3
   },
   "file_extension": ".py",
   "mimetype": "text/x-python",
   "name": "python",
   "nbconvert_exporter": "python",
   "pygments_lexer": "ipython3",
   "version": "3.8.18"
  }
 },
 "nbformat": 4,
 "nbformat_minor": 2
}
