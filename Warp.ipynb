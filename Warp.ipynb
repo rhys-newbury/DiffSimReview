{
 "cells": [
  {
   "cell_type": "code",
   "execution_count": 1,
   "metadata": {},
   "outputs": [
    {
     "name": "stdout",
     "output_type": "stream",
     "text": [
      "Requirement already satisfied: warp-lang==0.10.1 in /home/taco/miniconda3/envs/warp2/lib/python3.8/site-packages (0.10.1)\n",
      "Requirement already satisfied: numpy in /home/taco/miniconda3/envs/warp2/lib/python3.8/site-packages (from warp-lang==0.10.1) (1.20.0)\n",
      "Requirement already satisfied: urdfpy in /home/taco/miniconda3/envs/warp2/lib/python3.8/site-packages (0.0.22)\n",
      "Requirement already satisfied: lxml in /home/taco/miniconda3/envs/warp2/lib/python3.8/site-packages (from urdfpy) (4.9.3)\n",
      "Requirement already satisfied: networkx==2.2 in /home/taco/miniconda3/envs/warp2/lib/python3.8/site-packages (from urdfpy) (2.2)\n",
      "Requirement already satisfied: numpy in /home/taco/miniconda3/envs/warp2/lib/python3.8/site-packages (from urdfpy) (1.20.0)\n",
      "Requirement already satisfied: pillow in /home/taco/miniconda3/envs/warp2/lib/python3.8/site-packages (from urdfpy) (10.1.0)\n",
      "Requirement already satisfied: pycollada==0.6 in /home/taco/miniconda3/envs/warp2/lib/python3.8/site-packages (from urdfpy) (0.6)\n",
      "Requirement already satisfied: pyrender>=0.1.20 in /home/taco/miniconda3/envs/warp2/lib/python3.8/site-packages (from urdfpy) (0.1.45)\n",
      "Requirement already satisfied: scipy in /home/taco/miniconda3/envs/warp2/lib/python3.8/site-packages (from urdfpy) (1.10.1)\n",
      "Requirement already satisfied: six in /home/taco/miniconda3/envs/warp2/lib/python3.8/site-packages (from urdfpy) (1.16.0)\n",
      "Requirement already satisfied: trimesh in /home/taco/miniconda3/envs/warp2/lib/python3.8/site-packages (from urdfpy) (4.0.5)\n",
      "Requirement already satisfied: decorator>=4.3.0 in /home/taco/miniconda3/envs/warp2/lib/python3.8/site-packages (from networkx==2.2->urdfpy) (5.1.1)\n",
      "Requirement already satisfied: python-dateutil>=2.2 in /home/taco/miniconda3/envs/warp2/lib/python3.8/site-packages (from pycollada==0.6->urdfpy) (2.8.2)\n",
      "Requirement already satisfied: freetype-py in /home/taco/miniconda3/envs/warp2/lib/python3.8/site-packages (from pyrender>=0.1.20->urdfpy) (2.4.0)\n",
      "Requirement already satisfied: imageio in /home/taco/miniconda3/envs/warp2/lib/python3.8/site-packages (from pyrender>=0.1.20->urdfpy) (2.33.0)\n",
      "Requirement already satisfied: pyglet>=1.4.10 in /home/taco/miniconda3/envs/warp2/lib/python3.8/site-packages (from pyrender>=0.1.20->urdfpy) (2.0.10)\n",
      "Requirement already satisfied: PyOpenGL==3.1.0 in /home/taco/miniconda3/envs/warp2/lib/python3.8/site-packages (from pyrender>=0.1.20->urdfpy) (3.1.0)\n",
      "Requirement already satisfied: numpy==1.20.0 in /home/taco/miniconda3/envs/warp2/lib/python3.8/site-packages (1.20.0)\n"
     ]
    }
   ],
   "source": [
    "# Tested on Python 3.8.18 \n",
    "import sys\n",
    "!{sys.executable} -m pip install warp-lang==0.10.1\n",
    "!{sys.executable} -m pip install urdfpy\n",
    "!{sys.executable} -m pip install numpy==1.20.0"
   ]
  },
  {
   "cell_type": "code",
   "execution_count": 2,
   "metadata": {},
   "outputs": [
    {
     "name": "stdout",
     "output_type": "stream",
     "text": [
      "Warp 0.10.1 initialized:\n",
      "   CUDA Toolkit: 11.5, Driver: 12.1\n",
      "   Devices:\n",
      "     \"cpu\"    | x86_64\n",
      "     \"cuda:0\" | NVIDIA GeForce RTX 3050 Ti Laptop GPU (sm_86)\n",
      "   Kernel cache: /home/taco/.cache/warp/0.10.1\n"
     ]
    }
   ],
   "source": [
    "import warp as wp\n",
    "import warp.sim\n",
    "import numpy as np"
   ]
  },
  {
   "cell_type": "code",
   "execution_count": null,
   "metadata": {},
   "outputs": [],
   "source": [
    "\n",
    "wp.init()\n",
    "\n",
    "articulation_builder = wp.sim.ModelBuilder()\n",
    "\n",
    "builder = wp.sim.ModelBuilder()\n",
    "wp.sim.parse_urdf(\n",
    "    \"example.urdf\",\n",
    "    articulation_builder,\n",
    "    xform=wp.transform(\n",
    "        np.zeros(3),\n",
    "        wp.quat_from_axis_angle((1, 0, 0),np.pi)\n",
    "    ),\n",
    ")\n",
    "builder = wp.sim.ModelBuilder()\n",
    "builder.joint_q[-2:] = [0.0, 0.0]\n",
    "builder.joint_target[:2] = [0.0, 0.0]\n",
    "\n",
    "model = builder.finalize()\n",
    "integrator = wp.sim.SemiImplicitIntegrator()\n"
   ]
  },
  {
   "cell_type": "code",
   "execution_count": 12,
   "metadata": {},
   "outputs": [],
   "source": [
    "state = model.state()\n",
    "\n",
    "for _ in range(10):\n",
    "    state.clear_forces()\n",
    "    integrator.simulate(model, state, state, 0.01)"
   ]
  }
 ],
 "metadata": {
  "kernelspec": {
   "display_name": "warp",
   "language": "python",
   "name": "python3"
  },
  "language_info": {
   "codemirror_mode": {
    "name": "ipython",
    "version": 3
   },
   "file_extension": ".py",
   "mimetype": "text/x-python",
   "name": "python",
   "nbconvert_exporter": "python",
   "pygments_lexer": "ipython3",
   "version": "3.8.18"
  }
 },
 "nbformat": 4,
 "nbformat_minor": 2
}
