{
 "cells": [
  {
   "cell_type": "code",
   "execution_count": 1,
   "metadata": {},
   "outputs": [
    {
     "name": "stdout",
     "output_type": "stream",
     "text": [
      "Requirement already satisfied: nimblephysics==0.10.30 in /home/taco/miniconda3/envs/nimble/lib/python3.8/site-packages (0.10.30)\n",
      "Requirement already satisfied: torch in /home/taco/miniconda3/envs/nimble/lib/python3.8/site-packages (from nimblephysics==0.10.30) (2.1.1)\n",
      "Requirement already satisfied: numpy in /home/taco/miniconda3/envs/nimble/lib/python3.8/site-packages (from nimblephysics==0.10.30) (1.24.4)\n",
      "Requirement already satisfied: filelock in /home/taco/miniconda3/envs/nimble/lib/python3.8/site-packages (from torch->nimblephysics==0.10.30) (3.13.1)\n",
      "Requirement already satisfied: typing-extensions in /home/taco/miniconda3/envs/nimble/lib/python3.8/site-packages (from torch->nimblephysics==0.10.30) (4.7.1)\n",
      "Requirement already satisfied: sympy in /home/taco/miniconda3/envs/nimble/lib/python3.8/site-packages (from torch->nimblephysics==0.10.30) (1.12)\n",
      "Requirement already satisfied: networkx in /home/taco/miniconda3/envs/nimble/lib/python3.8/site-packages (from torch->nimblephysics==0.10.30) (3.1)\n",
      "Requirement already satisfied: jinja2 in /home/taco/miniconda3/envs/nimble/lib/python3.8/site-packages (from torch->nimblephysics==0.10.30) (3.1.2)\n",
      "Requirement already satisfied: fsspec in /home/taco/miniconda3/envs/nimble/lib/python3.8/site-packages (from torch->nimblephysics==0.10.30) (2023.10.0)\n",
      "Requirement already satisfied: nvidia-cuda-nvrtc-cu12==12.1.105 in /home/taco/miniconda3/envs/nimble/lib/python3.8/site-packages (from torch->nimblephysics==0.10.30) (12.1.105)\n",
      "Requirement already satisfied: nvidia-cuda-runtime-cu12==12.1.105 in /home/taco/miniconda3/envs/nimble/lib/python3.8/site-packages (from torch->nimblephysics==0.10.30) (12.1.105)\n",
      "Requirement already satisfied: nvidia-cuda-cupti-cu12==12.1.105 in /home/taco/miniconda3/envs/nimble/lib/python3.8/site-packages (from torch->nimblephysics==0.10.30) (12.1.105)\n",
      "Requirement already satisfied: nvidia-cudnn-cu12==8.9.2.26 in /home/taco/miniconda3/envs/nimble/lib/python3.8/site-packages (from torch->nimblephysics==0.10.30) (8.9.2.26)\n",
      "Requirement already satisfied: nvidia-cublas-cu12==12.1.3.1 in /home/taco/miniconda3/envs/nimble/lib/python3.8/site-packages (from torch->nimblephysics==0.10.30) (12.1.3.1)\n",
      "Requirement already satisfied: nvidia-cufft-cu12==11.0.2.54 in /home/taco/miniconda3/envs/nimble/lib/python3.8/site-packages (from torch->nimblephysics==0.10.30) (11.0.2.54)\n",
      "Requirement already satisfied: nvidia-curand-cu12==10.3.2.106 in /home/taco/miniconda3/envs/nimble/lib/python3.8/site-packages (from torch->nimblephysics==0.10.30) (10.3.2.106)\n",
      "Requirement already satisfied: nvidia-cusolver-cu12==11.4.5.107 in /home/taco/miniconda3/envs/nimble/lib/python3.8/site-packages (from torch->nimblephysics==0.10.30) (11.4.5.107)\n",
      "Requirement already satisfied: nvidia-cusparse-cu12==12.1.0.106 in /home/taco/miniconda3/envs/nimble/lib/python3.8/site-packages (from torch->nimblephysics==0.10.30) (12.1.0.106)\n",
      "Requirement already satisfied: nvidia-nccl-cu12==2.18.1 in /home/taco/miniconda3/envs/nimble/lib/python3.8/site-packages (from torch->nimblephysics==0.10.30) (2.18.1)\n",
      "Requirement already satisfied: nvidia-nvtx-cu12==12.1.105 in /home/taco/miniconda3/envs/nimble/lib/python3.8/site-packages (from torch->nimblephysics==0.10.30) (12.1.105)\n",
      "Requirement already satisfied: triton==2.1.0 in /home/taco/miniconda3/envs/nimble/lib/python3.8/site-packages (from torch->nimblephysics==0.10.30) (2.1.0)\n",
      "Requirement already satisfied: nvidia-nvjitlink-cu12 in /home/taco/miniconda3/envs/nimble/lib/python3.8/site-packages (from nvidia-cusolver-cu12==11.4.5.107->torch->nimblephysics==0.10.30) (12.3.101)\n",
      "Requirement already satisfied: MarkupSafe>=2.0 in /home/taco/miniconda3/envs/nimble/lib/python3.8/site-packages (from jinja2->torch->nimblephysics==0.10.30) (2.1.3)\n",
      "Requirement already satisfied: mpmath>=0.19 in /home/taco/miniconda3/envs/nimble/lib/python3.8/site-packages (from sympy->torch->nimblephysics==0.10.30) (1.3.0)\n",
      "Requirement already satisfied: torch in /home/taco/miniconda3/envs/nimble/lib/python3.8/site-packages (2.1.1)\n",
      "Requirement already satisfied: torchvision in /home/taco/miniconda3/envs/nimble/lib/python3.8/site-packages (0.16.1)\n",
      "Requirement already satisfied: torchaudio in /home/taco/miniconda3/envs/nimble/lib/python3.8/site-packages (2.1.1)\n",
      "Requirement already satisfied: filelock in /home/taco/miniconda3/envs/nimble/lib/python3.8/site-packages (from torch) (3.13.1)\n",
      "Requirement already satisfied: typing-extensions in /home/taco/miniconda3/envs/nimble/lib/python3.8/site-packages (from torch) (4.7.1)\n",
      "Requirement already satisfied: sympy in /home/taco/miniconda3/envs/nimble/lib/python3.8/site-packages (from torch) (1.12)\n",
      "Requirement already satisfied: networkx in /home/taco/miniconda3/envs/nimble/lib/python3.8/site-packages (from torch) (3.1)\n",
      "Requirement already satisfied: jinja2 in /home/taco/miniconda3/envs/nimble/lib/python3.8/site-packages (from torch) (3.1.2)\n",
      "Requirement already satisfied: fsspec in /home/taco/miniconda3/envs/nimble/lib/python3.8/site-packages (from torch) (2023.10.0)\n",
      "Requirement already satisfied: nvidia-cuda-nvrtc-cu12==12.1.105 in /home/taco/miniconda3/envs/nimble/lib/python3.8/site-packages (from torch) (12.1.105)\n",
      "Requirement already satisfied: nvidia-cuda-runtime-cu12==12.1.105 in /home/taco/miniconda3/envs/nimble/lib/python3.8/site-packages (from torch) (12.1.105)\n",
      "Requirement already satisfied: nvidia-cuda-cupti-cu12==12.1.105 in /home/taco/miniconda3/envs/nimble/lib/python3.8/site-packages (from torch) (12.1.105)\n",
      "Requirement already satisfied: nvidia-cudnn-cu12==8.9.2.26 in /home/taco/miniconda3/envs/nimble/lib/python3.8/site-packages (from torch) (8.9.2.26)\n",
      "Requirement already satisfied: nvidia-cublas-cu12==12.1.3.1 in /home/taco/miniconda3/envs/nimble/lib/python3.8/site-packages (from torch) (12.1.3.1)\n",
      "Requirement already satisfied: nvidia-cufft-cu12==11.0.2.54 in /home/taco/miniconda3/envs/nimble/lib/python3.8/site-packages (from torch) (11.0.2.54)\n",
      "Requirement already satisfied: nvidia-curand-cu12==10.3.2.106 in /home/taco/miniconda3/envs/nimble/lib/python3.8/site-packages (from torch) (10.3.2.106)\n",
      "Requirement already satisfied: nvidia-cusolver-cu12==11.4.5.107 in /home/taco/miniconda3/envs/nimble/lib/python3.8/site-packages (from torch) (11.4.5.107)\n",
      "Requirement already satisfied: nvidia-cusparse-cu12==12.1.0.106 in /home/taco/miniconda3/envs/nimble/lib/python3.8/site-packages (from torch) (12.1.0.106)\n",
      "Requirement already satisfied: nvidia-nccl-cu12==2.18.1 in /home/taco/miniconda3/envs/nimble/lib/python3.8/site-packages (from torch) (2.18.1)\n",
      "Requirement already satisfied: nvidia-nvtx-cu12==12.1.105 in /home/taco/miniconda3/envs/nimble/lib/python3.8/site-packages (from torch) (12.1.105)\n",
      "Requirement already satisfied: triton==2.1.0 in /home/taco/miniconda3/envs/nimble/lib/python3.8/site-packages (from torch) (2.1.0)\n",
      "Requirement already satisfied: nvidia-nvjitlink-cu12 in /home/taco/miniconda3/envs/nimble/lib/python3.8/site-packages (from nvidia-cusolver-cu12==11.4.5.107->torch) (12.3.101)\n",
      "Requirement already satisfied: numpy in /home/taco/miniconda3/envs/nimble/lib/python3.8/site-packages (from torchvision) (1.24.4)\n",
      "Requirement already satisfied: requests in /home/taco/miniconda3/envs/nimble/lib/python3.8/site-packages (from torchvision) (2.31.0)\n",
      "Requirement already satisfied: pillow!=8.3.*,>=5.3.0 in /home/taco/miniconda3/envs/nimble/lib/python3.8/site-packages (from torchvision) (10.1.0)\n",
      "Requirement already satisfied: MarkupSafe>=2.0 in /home/taco/miniconda3/envs/nimble/lib/python3.8/site-packages (from jinja2->torch) (2.1.3)\n",
      "Requirement already satisfied: charset-normalizer<4,>=2 in /home/taco/miniconda3/envs/nimble/lib/python3.8/site-packages (from requests->torchvision) (3.3.2)\n",
      "Requirement already satisfied: idna<4,>=2.5 in /home/taco/miniconda3/envs/nimble/lib/python3.8/site-packages (from requests->torchvision) (3.6)\n",
      "Requirement already satisfied: urllib3<3,>=1.21.1 in /home/taco/miniconda3/envs/nimble/lib/python3.8/site-packages (from requests->torchvision) (2.1.0)\n",
      "Requirement already satisfied: certifi>=2017.4.17 in /home/taco/miniconda3/envs/nimble/lib/python3.8/site-packages (from requests->torchvision) (2023.11.17)\n",
      "Requirement already satisfied: mpmath>=0.19 in /home/taco/miniconda3/envs/nimble/lib/python3.8/site-packages (from sympy->torch) (1.3.0)\n"
     ]
    }
   ],
   "source": [
    "# Tested on Python 3.8.18 \n",
    "import sys\n",
    "!{sys.executable} -m pip install nimblephysics==0.10.30\n",
    "!{sys.executable} -m pip install torch torchvision torchaudio"
   ]
  },
  {
   "cell_type": "code",
   "execution_count": 2,
   "metadata": {},
   "outputs": [],
   "source": [
    "import nimblephysics as nimble\n",
    "import torch"
   ]
  },
  {
   "cell_type": "code",
   "execution_count": 6,
   "metadata": {},
   "outputs": [],
   "source": [
    "\n",
    "world = nimble.simulation.World()\n",
    "world.setGravity([0, -9.81, 0])\n",
    "arm = world.loadSkeleton(\"./example.urdf\")\n",
    "\n",
    "ticker = nimble.realtime.Ticker(\n",
    "    world.getTimeStep())\n",
    "\n",
    "initialState = torch.rand((world.getStateSize()))\n",
    "state = initialState\n",
    "action = torch.zeros((world.getActionSize()))\n",
    "\n",
    "for _ in range(10):\n",
    "    state = nimble.timestep(world, state, action)"
   ]
  }
 ],
 "metadata": {
  "kernelspec": {
   "display_name": "nimble",
   "language": "python",
   "name": "python3"
  },
  "language_info": {
   "codemirror_mode": {
    "name": "ipython",
    "version": 3
   },
   "file_extension": ".py",
   "mimetype": "text/x-python",
   "name": "python",
   "nbconvert_exporter": "python",
   "pygments_lexer": "ipython3",
   "version": "3.8.18"
  }
 },
 "nbformat": 4,
 "nbformat_minor": 2
}
